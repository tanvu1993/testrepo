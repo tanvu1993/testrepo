{
 "cells": [
  {
   "cell_type": "markdown",
   "id": "d6fefe4f-2f75-43f0-b755-c0c06e6f69a4",
   "metadata": {},
   "source": [
    "# Data Science Tools and Ecosystem"
   ]
  },
  {
   "cell_type": "markdown",
   "id": "953b9460-c43a-4122-a7f4-8145d445e22b",
   "metadata": {},
   "source": [
    "In this notebook, Data Science Tools and Ecosystem are summarized."
   ]
  },
  {
   "cell_type": "markdown",
   "id": "6a14ed1b-9b72-4c74-bc75-6681cdcda949",
   "metadata": {},
   "source": [
    "**Objectives:**\n",
    "- List popular languages for Data Science\n",
    "- List popular tools for Data Science\n",
    "- List popular libraries for Data Science"
   ]
  },
  {
   "cell_type": "markdown",
   "id": "64535a35-42c7-4465-ab5c-18defae9184e",
   "metadata": {},
   "source": [
    "Some of the popular languages that Data Scientists use are:\n",
    "1. Python\n",
    "2. R\n",
    "3. SQL"
   ]
  },
  {
   "cell_type": "markdown",
   "id": "6898adb8-43ef-468d-a2fb-1aad664a4e64",
   "metadata": {},
   "source": [
    "Some of the commonly used libraries used by Data Scientists include:\n",
    "1. NumPy\n",
    "2. Pandas\n",
    "3. Matplotlib"
   ]
  },
  {
   "cell_type": "markdown",
   "id": "67cb6bc1-a0b9-4eaf-9039-875f6b6eba0d",
   "metadata": {},
   "source": [
    "Data Science Tools    |\n",
    "| -------- | \n",
    "| Jupyter Notebook  | \n",
    "| JupyterLab | \n",
    "| RStudio    | "
   ]
  },
  {
   "cell_type": "markdown",
   "id": "e1d861df-8294-4ce3-a1b0-5186fd1fc874",
   "metadata": {},
   "source": [
    "### Below are a few examples of evaluating arithmetic expressions in Python"
   ]
  },
  {
   "cell_type": "code",
   "execution_count": 3,
   "id": "a44c5c6e-ac56-4682-b481-3a78eb9cfa25",
   "metadata": {},
   "outputs": [
    {
     "data": {
      "text/plain": [
       "17"
      ]
     },
     "execution_count": 3,
     "metadata": {},
     "output_type": "execute_result"
    }
   ],
   "source": [
    "#This a simple arithmetic expression to multiply then add integers\n",
    "(3*4)+5"
   ]
  },
  {
   "cell_type": "code",
   "execution_count": 5,
   "id": "b68121ca-0188-4994-b8f4-07ae207e8a20",
   "metadata": {},
   "outputs": [
    {
     "data": {
      "text/plain": [
       "3"
      ]
     },
     "execution_count": 5,
     "metadata": {},
     "output_type": "execute_result"
    }
   ],
   "source": [
    "#This will convert 200 minutes to hours by diving by 60\n",
    "200//60"
   ]
  },
  {
   "cell_type": "markdown",
   "id": "7ff43a1f-41a3-45b3-ae85-c90417def31c",
   "metadata": {},
   "source": [
    "## Author\n",
    "Vu Ngoc Tan"
   ]
  },
  {
   "cell_type": "code",
   "execution_count": null,
   "id": "672718ce-246b-4a2f-9e96-2fc3d3c95caf",
   "metadata": {},
   "outputs": [],
   "source": []
  }
 ],
 "metadata": {
  "kernelspec": {
   "display_name": "Python 3 (ipykernel)",
   "language": "python",
   "name": "python3"
  },
  "language_info": {
   "codemirror_mode": {
    "name": "ipython",
    "version": 3
   },
   "file_extension": ".py",
   "mimetype": "text/x-python",
   "name": "python",
   "nbconvert_exporter": "python",
   "pygments_lexer": "ipython3",
   "version": "3.12.3"
  }
 },
 "nbformat": 4,
 "nbformat_minor": 5
}
